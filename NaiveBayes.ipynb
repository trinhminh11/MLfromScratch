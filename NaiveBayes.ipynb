{
 "cells": [
  {
   "cell_type": "code",
   "execution_count": 96,
   "metadata": {},
   "outputs": [],
   "source": [
    "import numpy as np\n",
    "from sklearn.model_selection import train_test_split\n",
    "from sklearn import datasets"
   ]
  },
  {
   "cell_type": "code",
   "execution_count": 97,
   "metadata": {},
   "outputs": [],
   "source": [
    "n_samples = 1000\n",
    "n_features = 10\n",
    "n_classes = 2\n",
    "random_seed = 0"
   ]
  },
  {
   "cell_type": "code",
   "execution_count": 98,
   "metadata": {},
   "outputs": [],
   "source": [
    "X, y = datasets.make_classification(n_samples=n_samples, n_features=n_features, n_classes=n_classes, random_state=random_seed)"
   ]
  },
  {
   "cell_type": "code",
   "execution_count": 99,
   "metadata": {},
   "outputs": [],
   "source": [
    "X_train, X_test, y_train, y_test = train_test_split(X, y, test_size=0.2, random_state=random_seed)"
   ]
  },
  {
   "cell_type": "code",
   "execution_count": 100,
   "metadata": {},
   "outputs": [],
   "source": [
    "class NaiveBayes:\n",
    "\tdef __init__(self, n_features, n_classes) -> None:\n",
    "\t\tself.n_classes = n_classes\n",
    "\t\tself.n_features = n_features\n",
    "\n",
    "\n",
    "\t\t# mean to calc PDF\n",
    "\t\tself.mean = np.zeros((self.n_classes, n_features), dtype=np.float64)\n",
    "\t\t# variance to calc PDF\n",
    "\t\tself.var = np.zeros((self.n_classes, n_features), dtype=np.float64)\n",
    "\n",
    "\t\tself.priors = np.zeros(self.n_classes, dtype=np.float64)\n",
    "\n",
    "\tdef fit(self, X: np.ndarray, y: np.ndarray):\n",
    "\t\tn_samples = X.shape[0]\n",
    "\n",
    "\t\tfor c in range(self.n_classes):\n",
    "\t\t\tX_c = X[c==y]\n",
    "\n",
    "\t\t\t# mean of data y = c\n",
    "\t\t\tself.mean[c,:] = X_c.mean(axis=0)\n",
    "\t\t\t# variance of data y = c\n",
    "\t\t\tself.var[c,:] = X_c.var(axis=0)\n",
    "\t\t\t# prob of y = c\n",
    "\t\t\tself.priors[c] = X_c.shape[0] / n_samples\n",
    "\n",
    "\t# predict for many samples\n",
    "\tdef predict(self, X: np.ndarray):\n",
    "\t\treturn [self._predict(x) for x in X]\n",
    "\n",
    "\t# preidct for 1 samples\n",
    "\tdef _predict(self, X: np.ndarray):\n",
    "\n",
    "\t\tres = -1\n",
    "\t\tmax_post = float('-inf')\n",
    "\n",
    "\t\tfor c in range(self.n_classes):\n",
    "\t\t\tprior = np.log(self.priors[c])\n",
    "\t\t\t# sum of log PDF\n",
    "\t\t\tclass_cond = np.sum(np.log(self.PDF(c, X)))\n",
    "\n",
    "\t\t\t# Prob of where X = c\n",
    "\t\t\tpost = prior + class_cond\n",
    "\n",
    "\t\t\tif post > max_post:\n",
    "\t\t\t\tmax_post = post\n",
    "\t\t\t\tres = c\n",
    "\t\t\n",
    "\t\treturn res\n",
    "\n",
    "\t# Probability Density Function\n",
    "\tdef PDF(self, c, X):\n",
    "\t\tmean = self.mean[c]\n",
    "\t\tvar = self.var[c]\n",
    "\t\tnumerator = np.exp(-(X-mean)**2 / (2*var))\n",
    "\t\tdenominator = np.sqrt(2 * np.pi * var)\n",
    "\n",
    "\t\treturn numerator / denominator\n",
    "\t\n",
    "\t# calc Accuracy\n",
    "\tdef score(self, X: np.ndarray, y: np.ndarray):\n",
    "\t\tres = self.predict(X) == y\n",
    "\t\treturn np.sum(res) / len(res)"
   ]
  },
  {
   "cell_type": "code",
   "execution_count": 101,
   "metadata": {},
   "outputs": [],
   "source": [
    "model = NaiveBayes(n_features, n_classes)"
   ]
  },
  {
   "cell_type": "code",
   "execution_count": 102,
   "metadata": {},
   "outputs": [],
   "source": [
    "model.fit(X_train, y_train)"
   ]
  },
  {
   "cell_type": "code",
   "execution_count": 103,
   "metadata": {},
   "outputs": [
    {
     "data": {
      "text/plain": [
       "0.945"
      ]
     },
     "execution_count": 103,
     "metadata": {},
     "output_type": "execute_result"
    }
   ],
   "source": [
    "model.score(X_test, y_test)"
   ]
  }
 ],
 "metadata": {
  "kernelspec": {
   "display_name": "PyTorch",
   "language": "python",
   "name": "python3"
  },
  "language_info": {
   "codemirror_mode": {
    "name": "ipython",
    "version": 3
   },
   "file_extension": ".py",
   "mimetype": "text/x-python",
   "name": "python",
   "nbconvert_exporter": "python",
   "pygments_lexer": "ipython3",
   "version": "3.12.2"
  }
 },
 "nbformat": 4,
 "nbformat_minor": 2
}
