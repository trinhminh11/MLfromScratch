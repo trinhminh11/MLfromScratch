{
 "cells": [
  {
   "cell_type": "code",
   "execution_count": 114,
   "metadata": {},
   "outputs": [],
   "source": [
    "import numpy as np\n",
    "from sklearn.model_selection import train_test_split\n",
    "from sklearn import datasets\n",
    "from collections import Counter"
   ]
  },
  {
   "cell_type": "code",
   "execution_count": 115,
   "metadata": {},
   "outputs": [],
   "source": [
    "random_seed = 0\n",
    "np.random.seed(random_seed)"
   ]
  },
  {
   "cell_type": "code",
   "execution_count": 116,
   "metadata": {},
   "outputs": [],
   "source": [
    "X, y = datasets.load_breast_cancer(return_X_y=True)"
   ]
  },
  {
   "cell_type": "code",
   "execution_count": 117,
   "metadata": {},
   "outputs": [],
   "source": [
    "X_train, X_test, y_train, y_test = train_test_split(X, y, test_size=0.2, random_state=random_seed)"
   ]
  },
  {
   "cell_type": "code",
   "execution_count": 118,
   "metadata": {},
   "outputs": [],
   "source": [
    "class DecisionTree:\n",
    "\n",
    "\tclass Node:\n",
    "\t\t# idx in data, threshold of node (<=threshold -> left, >threshold -> right), value of node (leafnode)\n",
    "\t\tdef __init__(self, idx=None, threshold=None, left=None, right=None, value=None):\n",
    "\t\t\tself.idx = idx\n",
    "\t\t\tself.threshold = threshold\n",
    "\t\t\tself.left = left\n",
    "\t\t\tself.right = right\n",
    "\t\t\tself.value = value\n",
    "\n",
    "\t\tdef isLeaf(self):\n",
    "\t\t\treturn self.value is not None\n",
    "\n",
    "\tdef __init__(self, n_features, min_samples_split = 2, max_depth = 100):\n",
    "\t\tself.n_features = n_features\n",
    "\t\tself.min_samples_split = min_samples_split\n",
    "\t\tself.max_depth = max_depth\n",
    "\t\tself.root = None\n",
    "\t\n",
    "\t# calc information gain by calculating entropy\n",
    "\tdef _information_gain(self, X, y, threshold):\n",
    "\t\t# parent Entropy\n",
    "\t\tparent_entropy = self.entropy(y)\n",
    "\t\t\n",
    "\t\t# spliting\n",
    "\t\tleft, right = np.argwhere(X <= threshold).flatten(), np.argwhere(X > threshold).flatten()\t\n",
    "\n",
    "\t\tn_l, n_r = len(left), len(right)\n",
    "\n",
    "\t\t# if cannot split into 2 children, information gain = 0\n",
    "\t\tif n_l & n_r == 0:\t# if n_l == 0 or n_r == 0\n",
    "\t\t\treturn 0\n",
    "\t\t\n",
    "\t\t# children Entropy\n",
    "\t\tn = len(y)\n",
    "\t\te_l, e_r = self.entropy(y[left]), self.entropy(y[right])\n",
    "\n",
    "\t\tchild_entropy = e_l * (n_l/n) + e_r * (n_r/n)\n",
    "\n",
    "\t\t# information gain\n",
    "\t\treturn parent_entropy - child_entropy\n",
    "\n",
    "\t# select idx and threshold to split data\n",
    "\tdef _best_criteria(self, X: np.ndarray, y: np.ndarray, idxs: np.ndarray):\n",
    "\t\tbest_gain = -1\n",
    "\t\tsplit_idx, split_thres = None, None\n",
    "\n",
    "\t\t# loop through each index and threshold to find the best idx, threshold have the largest information gain\n",
    "\t\tfor idx in idxs:\n",
    "\t\t\tX_column = X[:, idx]\n",
    "\t\t\tthresholds = np.unique(X_column)\n",
    "\n",
    "\t\t\tfor threshold in thresholds:\n",
    "\t\t\t\tgain = self._information_gain(X_column, y, threshold)\n",
    "\n",
    "\t\t\t\tif gain > best_gain:\n",
    "\t\t\t\t\tbest_gain = gain\n",
    "\t\t\t\t\tsplit_idx = idx\n",
    "\t\t\t\t\tsplit_thres = threshold\n",
    "\t\t\n",
    "\t\treturn split_idx, split_thres\n",
    "\n",
    "\t# growing decision tree\n",
    "\tdef _grow_tree(self, X: np.ndarray, y: np.ndarray, depth = 0):\n",
    "\t\tn_samples, n_features = X.shape\n",
    "\t\tn_labels = len(np.unique(y))\n",
    "\n",
    "\t\t# at leaf node\n",
    "\t\tif depth >= self.max_depth or n_labels == 1 or n_samples < self.min_samples_split:\n",
    "\t\t\tvalue = Counter(y).most_common(1)[0][0]\n",
    "\t\t\treturn self.Node(value=value)\n",
    "\n",
    "\t\t# get random indexs\n",
    "\t\tidxs = np.random.choice(n_features, self.n_features, replace=False)\n",
    "\n",
    "\t\t# greedy search\n",
    "\t\tidx, threshold = self._best_criteria(X, y, idxs)\n",
    "\n",
    "\t\t# select left indexes and right indexes base on best idx and threshold in X\n",
    "\t\tleft_idxs, right_idxs = np.argwhere(X[: ,idx] <= threshold).flatten(), np.argwhere(X[:, idx] > threshold).flatten()\n",
    "\n",
    "\t\t# left node\n",
    "\t\tleft = self._grow_tree(X[left_idxs, :], y[left_idxs], depth=depth+1)\n",
    "\t\t# right node\n",
    "\t\tright = self._grow_tree(X[right_idxs, :], y[right_idxs], depth=depth+1)\n",
    "\n",
    "\t\treturn self.Node(idx, threshold, left, right)\n",
    "\n",
    "\t# fit is growing decision tree\n",
    "\tdef fit(self, X: np.ndarray, y: np.ndarray):\n",
    "\t\tself.root = self._grow_tree(X, y)\n",
    "\n",
    "\t# traverse tree to predict\n",
    "\tdef _traverse_tree(self, x, node: Node):\n",
    "\t\tif node.isLeaf():\n",
    "\t\t\treturn node.value\n",
    "\t\t# got to left node\n",
    "\t\tif x[node.idx] <= node.threshold:\n",
    "\t\t\treturn self._traverse_tree(x, node.left)\n",
    "\t\t# otherwise, right node\n",
    "\t\treturn self._traverse_tree(x, node.right)\n",
    "\n",
    "\tdef predict(self, X: np.ndarray):\n",
    "\t\treturn np.array([self._traverse_tree(x, self.root) for x in X])\n",
    "\t\n",
    "\t# calculating entropy\n",
    "\t@staticmethod\n",
    "\tdef entropy(y):\n",
    "\t\thist = np.bincount(y)\t#hist[i] = number occurent of i in y\n",
    "\t\tps = hist/len(y)\n",
    "\t\treturn -np.sum([p * np.log2(p) for p in ps if p > 0])\n",
    "\t\n",
    "\tdef score(self, X, y):\n",
    "\t\tres = self.predict(X) == y\n",
    "\t\treturn np.sum(res) / len(res)\n"
   ]
  },
  {
   "cell_type": "code",
   "execution_count": 119,
   "metadata": {},
   "outputs": [],
   "source": [
    "model = DecisionTree(X.shape[1])"
   ]
  },
  {
   "cell_type": "code",
   "execution_count": 120,
   "metadata": {},
   "outputs": [],
   "source": [
    "model.fit(X_train, y_train)"
   ]
  },
  {
   "cell_type": "code",
   "execution_count": 121,
   "metadata": {},
   "outputs": [
    {
     "data": {
      "text/plain": [
       "0.9473684210526315"
      ]
     },
     "execution_count": 121,
     "metadata": {},
     "output_type": "execute_result"
    }
   ],
   "source": [
    "model.score(X_test, y_test)"
   ]
  }
 ],
 "metadata": {
  "kernelspec": {
   "display_name": "PyTorch",
   "language": "python",
   "name": "python3"
  },
  "language_info": {
   "codemirror_mode": {
    "name": "ipython",
    "version": 3
   },
   "file_extension": ".py",
   "mimetype": "text/x-python",
   "name": "python",
   "nbconvert_exporter": "python",
   "pygments_lexer": "ipython3",
   "version": "3.12.2"
  }
 },
 "nbformat": 4,
 "nbformat_minor": 2
}
