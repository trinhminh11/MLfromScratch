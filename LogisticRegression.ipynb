{
 "cells": [
  {
   "cell_type": "code",
   "execution_count": 134,
   "metadata": {},
   "outputs": [],
   "source": [
    "import numpy as np\n",
    "from sklearn.model_selection import train_test_split\n",
    "from tqdm import tqdm\n",
    "from sklearn import datasets\n",
    "\n",
    "from utils import sigmoid"
   ]
  },
  {
   "cell_type": "code",
   "execution_count": 135,
   "metadata": {},
   "outputs": [],
   "source": [
    "random_seed = 0\n",
    "np.random.seed(random_seed)"
   ]
  },
  {
   "cell_type": "code",
   "execution_count": 136,
   "metadata": {},
   "outputs": [],
   "source": [
    "bc = datasets.load_breast_cancer()\n",
    "X, y = bc.data, bc.target"
   ]
  },
  {
   "cell_type": "code",
   "execution_count": 137,
   "metadata": {},
   "outputs": [],
   "source": [
    "X_train, X_test, y_train, y_test = train_test_split(X, y, test_size=0.2, random_state=random_seed)"
   ]
  },
  {
   "cell_type": "code",
   "execution_count": 138,
   "metadata": {},
   "outputs": [],
   "source": [
    "class LogisticRegression:\n",
    "\tdef __init__(self, n_features) -> None:\n",
    "\t\t# create random initial weights\n",
    "\t\tself.w = np.random.randn(n_features)\n",
    "\t\t# initial bias = 0\n",
    "\t\tself.b = 0\n",
    "\n",
    "\tdef fit(self, X: np.ndarray, y: np.ndarray, epochs=1000, lr=0.001):\n",
    "\t\t\n",
    "\t\tfor epoch in tqdm(range(epochs)):\n",
    "\t\t\tdw, db = self.gradient_descend(X, y)\n",
    "\n",
    "\t\t\t# Applied Gradient\n",
    "\t\t\tself.w -= lr * dw\n",
    "\t\t\tself.b -= lr * db\n",
    "\n",
    "\t# gradient descent for Mean Squared Error + Sigmoid\n",
    "\tdef gradient_descend(self, X: np.ndarray, y: np.ndarray):\n",
    "\t\tn_samples, n_features = X.shape\n",
    "\n",
    "\t\tlinear_model = np.dot(X, self.w) + self.b\n",
    "\t\ty_predicted = sigmoid(linear_model)\n",
    "\n",
    "\t\tdw = (2/n_samples) * np.dot(X.T, (y_predicted-y))\n",
    "\t\tdb = (2/n_samples) * np.sum(y_predicted-y)\n",
    "\n",
    "\t\treturn dw, db\n",
    "\n",
    "\t# sigmoid > 0.5 = True, False otherwise\n",
    "\tdef predict(self, X: np.ndarray):\n",
    "\t\tlinear_model = np.dot(X, self.w) + self.b\n",
    "\t\ty_predicted = sigmoid(linear_model)\n",
    "\n",
    "\t\treturn y_predicted >= 0.5\n",
    "\t\n",
    "\t# calc Accuracy\n",
    "\tdef score(self, X, y):\n",
    "\t\tres = self.predict(X) == y\n",
    "\t\treturn np.sum(res) / len(res)\n"
   ]
  },
  {
   "cell_type": "code",
   "execution_count": 139,
   "metadata": {},
   "outputs": [],
   "source": [
    "model = LogisticRegression(X.shape[1])"
   ]
  },
  {
   "cell_type": "code",
   "execution_count": 140,
   "metadata": {},
   "outputs": [
    {
     "name": "stderr",
     "output_type": "stream",
     "text": [
      "100%|██████████| 1000/1000 [00:00<00:00, 4735.84it/s]\n"
     ]
    }
   ],
   "source": [
    "model.fit(X_train, y_train)"
   ]
  },
  {
   "cell_type": "code",
   "execution_count": 141,
   "metadata": {},
   "outputs": [
    {
     "data": {
      "text/plain": [
       "0.8596491228070176"
      ]
     },
     "execution_count": 141,
     "metadata": {},
     "output_type": "execute_result"
    }
   ],
   "source": [
    "model.score(X_test, y_test)\t"
   ]
  }
 ],
 "metadata": {
  "kernelspec": {
   "display_name": "PyTorch",
   "language": "python",
   "name": "python3"
  },
  "language_info": {
   "codemirror_mode": {
    "name": "ipython",
    "version": 3
   },
   "file_extension": ".py",
   "mimetype": "text/x-python",
   "name": "python",
   "nbconvert_exporter": "python",
   "pygments_lexer": "ipython3",
   "version": "3.12.2"
  }
 },
 "nbformat": 4,
 "nbformat_minor": 2
}
