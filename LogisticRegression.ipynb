{
 "cells": [
  {
   "cell_type": "code",
   "execution_count": 71,
   "metadata": {},
   "outputs": [],
   "source": [
    "import numpy as np\n",
    "import matplotlib.pyplot as plt\n",
    "from sklearn.model_selection import train_test_split\n",
    "from tqdm import tqdm\n",
    "from sklearn import datasets\n",
    "\n",
    "from utils import sigmoid"
   ]
  },
  {
   "cell_type": "code",
   "execution_count": 72,
   "metadata": {},
   "outputs": [],
   "source": [
    "bc = datasets.load_breast_cancer()\n",
    "X, y = bc.data, bc.target"
   ]
  },
  {
   "cell_type": "code",
   "execution_count": 73,
   "metadata": {},
   "outputs": [],
   "source": [
    "X_train, X_test, y_train, y_test = train_test_split(X, y, test_size=0.2, random_state=42)"
   ]
  },
  {
   "cell_type": "code",
   "execution_count": 74,
   "metadata": {},
   "outputs": [],
   "source": [
    "class LogisticRegression:\n",
    "\tdef __init__(self, n_features) -> None:\n",
    "\t\tself.w = np.zeros(n_features)\n",
    "\t\tself.b = 0\n",
    "\n",
    "\tdef fit(self, X: np.ndarray, y: np.ndarray, epochs=1000, lr=0.001):\n",
    "\t\t\n",
    "\t\tfor epoch in tqdm(range(epochs)):\n",
    "\t\t\tdw, db = self.gradient_descend(X, y)\n",
    "\n",
    "\t\t\tself.w -= lr * dw\n",
    "\t\t\tself.b -= lr * db\n",
    "\n",
    "\tdef gradient_descend(self, X: np.ndarray, y: np.ndarray):\n",
    "\t\tn_samples, n_features = X.shape\n",
    "\n",
    "\t\tlinear_model = np.dot(X, self.w) + self.b\n",
    "\t\ty_predicted = sigmoid(linear_model)\n",
    "\n",
    "\t\tdw = (1/n_samples) * np.dot(X.T, (y_predicted-y))\n",
    "\t\tdb = (1/n_samples) * np.sum(y_predicted-y)\n",
    "\n",
    "\t\treturn dw, db\n",
    "\n",
    "\n",
    "\tdef predict(self, X: np.ndarray):\n",
    "\t\tlinear_model = np.dot(X, self.w) + self.b\n",
    "\t\ty_predicted = sigmoid(linear_model)\n",
    "\n",
    "\t\treturn y_predicted >= 0.5\n",
    "\t\n",
    "\tdef score(self, X, y):\n",
    "\t\tres = self.predict(X) == y\n",
    "\t\treturn np.sum(res) / len(res)\n"
   ]
  },
  {
   "cell_type": "code",
   "execution_count": 75,
   "metadata": {},
   "outputs": [],
   "source": [
    "model = LogisticRegression(X.shape[1])"
   ]
  },
  {
   "cell_type": "code",
   "execution_count": 76,
   "metadata": {},
   "outputs": [
    {
     "name": "stderr",
     "output_type": "stream",
     "text": [
      "100%|██████████| 1000/1000 [00:00<00:00, 13779.78it/s]\n"
     ]
    }
   ],
   "source": [
    "model.fit(X_train, y_train)"
   ]
  },
  {
   "cell_type": "code",
   "execution_count": 77,
   "metadata": {},
   "outputs": [
    {
     "data": {
      "text/plain": [
       "0.9473684210526315"
      ]
     },
     "execution_count": 77,
     "metadata": {},
     "output_type": "execute_result"
    }
   ],
   "source": [
    "model.score(X_test, y_test)\t"
   ]
  }
 ],
 "metadata": {
  "kernelspec": {
   "display_name": "PyTorch",
   "language": "python",
   "name": "python3"
  },
  "language_info": {
   "codemirror_mode": {
    "name": "ipython",
    "version": 3
   },
   "file_extension": ".py",
   "mimetype": "text/x-python",
   "name": "python",
   "nbconvert_exporter": "python",
   "pygments_lexer": "ipython3",
   "version": "3.12.2"
  }
 },
 "nbformat": 4,
 "nbformat_minor": 2
}
